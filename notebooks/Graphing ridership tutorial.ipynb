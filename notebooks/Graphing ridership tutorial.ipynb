{
 "cells": [
  {
   "cell_type": "code",
   "execution_count": 9,
   "metadata": {},
   "outputs": [
    {
     "data": {
      "text/html": [
       "<div>\n",
       "<style>\n",
       "    .dataframe thead tr:only-child th {\n",
       "        text-align: right;\n",
       "    }\n",
       "\n",
       "    .dataframe thead th {\n",
       "        text-align: left;\n",
       "    }\n",
       "\n",
       "    .dataframe tbody tr th {\n",
       "        vertical-align: top;\n",
       "    }\n",
       "</style>\n",
       "<table border=\"1\" class=\"dataframe\">\n",
       "  <thead>\n",
       "    <tr style=\"text-align: right;\">\n",
       "      <th></th>\n",
       "      <th>X</th>\n",
       "      <th>Y</th>\n",
       "      <th>OBJECTID</th>\n",
       "      <th>StopID</th>\n",
       "      <th>NextRide</th>\n",
       "      <th>Location</th>\n",
       "      <th>Juris</th>\n",
       "      <th>Photo</th>\n",
       "      <th>Routes</th>\n",
       "      <th>Day_Category</th>\n",
       "      <th>Q2015_2</th>\n",
       "      <th>Q2015_3</th>\n",
       "      <th>Q2015_4</th>\n",
       "      <th>Q2016_1</th>\n",
       "      <th>Q2016_2</th>\n",
       "      <th>Q2016_3</th>\n",
       "      <th>Q2016_4</th>\n",
       "    </tr>\n",
       "  </thead>\n",
       "  <tbody>\n",
       "    <tr>\n",
       "      <th>0</th>\n",
       "      <td>-112.169247</td>\n",
       "      <td>33.445812</td>\n",
       "      <td>4001</td>\n",
       "      <td>1368</td>\n",
       "      <td>18489.0</td>\n",
       "      <td>SB 51ST AVE FS MADISON ST</td>\n",
       "      <td>Phoenix</td>\n",
       "      <td>NaN</td>\n",
       "      <td>51</td>\n",
       "      <td>Weekday</td>\n",
       "      <td>3.0</td>\n",
       "      <td>3.0</td>\n",
       "      <td>3.0</td>\n",
       "      <td>3.0</td>\n",
       "      <td>3.0</td>\n",
       "      <td>3.0</td>\n",
       "      <td>3.0</td>\n",
       "    </tr>\n",
       "    <tr>\n",
       "      <th>1</th>\n",
       "      <td>-112.169327</td>\n",
       "      <td>33.439301</td>\n",
       "      <td>4002</td>\n",
       "      <td>1369</td>\n",
       "      <td>18490.0</td>\n",
       "      <td>SB 51ST AVE FS HADLEY ST</td>\n",
       "      <td>Phoenix</td>\n",
       "      <td>NaN</td>\n",
       "      <td>51</td>\n",
       "      <td>Weekday</td>\n",
       "      <td>1.0</td>\n",
       "      <td>1.0</td>\n",
       "      <td>1.0</td>\n",
       "      <td>1.0</td>\n",
       "      <td>1.0</td>\n",
       "      <td>1.0</td>\n",
       "      <td>1.0</td>\n",
       "    </tr>\n",
       "    <tr>\n",
       "      <th>2</th>\n",
       "      <td>-112.169389</td>\n",
       "      <td>33.436022</td>\n",
       "      <td>4003</td>\n",
       "      <td>1370</td>\n",
       "      <td>18491.0</td>\n",
       "      <td>SB 51ST AVE FS BUCKEYE RD</td>\n",
       "      <td>Phoenix</td>\n",
       "      <td>NaN</td>\n",
       "      <td>51</td>\n",
       "      <td>Weekday</td>\n",
       "      <td>5.0</td>\n",
       "      <td>5.0</td>\n",
       "      <td>5.0</td>\n",
       "      <td>5.0</td>\n",
       "      <td>5.0</td>\n",
       "      <td>5.0</td>\n",
       "      <td>5.0</td>\n",
       "    </tr>\n",
       "    <tr>\n",
       "      <th>3</th>\n",
       "      <td>-112.169390</td>\n",
       "      <td>33.430641</td>\n",
       "      <td>4004</td>\n",
       "      <td>1371</td>\n",
       "      <td>18492.0</td>\n",
       "      <td>SB 51ST AVE FS MOHAVE ST</td>\n",
       "      <td>Phoenix</td>\n",
       "      <td>NaN</td>\n",
       "      <td>51</td>\n",
       "      <td>Weekday</td>\n",
       "      <td>1.0</td>\n",
       "      <td>1.0</td>\n",
       "      <td>1.0</td>\n",
       "      <td>1.0</td>\n",
       "      <td>1.0</td>\n",
       "      <td>1.0</td>\n",
       "      <td>1.0</td>\n",
       "    </tr>\n",
       "    <tr>\n",
       "      <th>4</th>\n",
       "      <td>-112.169404</td>\n",
       "      <td>33.425455</td>\n",
       "      <td>4005</td>\n",
       "      <td>1372</td>\n",
       "      <td>18493.0</td>\n",
       "      <td>SB 51ST AVE FS WATKINS ST</td>\n",
       "      <td>Phoenix</td>\n",
       "      <td>NaN</td>\n",
       "      <td>51</td>\n",
       "      <td>Weekday</td>\n",
       "      <td>1.0</td>\n",
       "      <td>1.0</td>\n",
       "      <td>1.0</td>\n",
       "      <td>1.0</td>\n",
       "      <td>1.0</td>\n",
       "      <td>1.0</td>\n",
       "      <td>1.0</td>\n",
       "    </tr>\n",
       "  </tbody>\n",
       "</table>\n",
       "</div>"
      ],
      "text/plain": [
       "            X          Y  OBJECTID  StopID  NextRide  \\\n",
       "0 -112.169247  33.445812      4001    1368   18489.0   \n",
       "1 -112.169327  33.439301      4002    1369   18490.0   \n",
       "2 -112.169389  33.436022      4003    1370   18491.0   \n",
       "3 -112.169390  33.430641      4004    1371   18492.0   \n",
       "4 -112.169404  33.425455      4005    1372   18493.0   \n",
       "\n",
       "                    Location    Juris Photo Routes Day_Category  Q2015_2  \\\n",
       "0  SB 51ST AVE FS MADISON ST  Phoenix   NaN     51      Weekday      3.0   \n",
       "1   SB 51ST AVE FS HADLEY ST  Phoenix   NaN     51      Weekday      1.0   \n",
       "2  SB 51ST AVE FS BUCKEYE RD  Phoenix   NaN     51      Weekday      5.0   \n",
       "3   SB 51ST AVE FS MOHAVE ST  Phoenix   NaN     51      Weekday      1.0   \n",
       "4  SB 51ST AVE FS WATKINS ST  Phoenix   NaN     51      Weekday      1.0   \n",
       "\n",
       "   Q2015_3  Q2015_4  Q2016_1  Q2016_2  Q2016_3  Q2016_4  \n",
       "0      3.0      3.0      3.0      3.0      3.0      3.0  \n",
       "1      1.0      1.0      1.0      1.0      1.0      1.0  \n",
       "2      5.0      5.0      5.0      5.0      5.0      5.0  \n",
       "3      1.0      1.0      1.0      1.0      1.0      1.0  \n",
       "4      1.0      1.0      1.0      1.0      1.0      1.0  "
      ]
     },
     "execution_count": 9,
     "metadata": {},
     "output_type": "execute_result"
    }
   ],
   "source": [
    "import pandas as pd\n",
    "\n",
    "bus = pd.read_csv(\"Valley_Metro_Bus_Ridership.csv\")\n",
    "\n",
    "bus.head()\n",
    "\n"
   ]
  },
  {
   "cell_type": "code",
   "execution_count": 30,
   "metadata": {},
   "outputs": [
    {
     "data": {
      "text/html": [
       "<iframe id=\"igraph\" scrolling=\"no\" style=\"border:none;\" seamless=\"seamless\" src=\"https://plot.ly/~chloehacker/8.embed\" height=\"525px\" width=\"100%\"></iframe>"
      ],
      "text/plain": [
       "<plotly.tools.PlotlyDisplay object>"
      ]
     },
     "execution_count": 30,
     "metadata": {},
     "output_type": "execute_result"
    }
   ],
   "source": [
    "import plotly.plotly as py\n",
    "import plotly.graph_objs as go\n",
    "\n",
    "import numpy as np\n",
    "\n",
    "x0 = bus.Q2015_2\n",
    "x1 = bus.Q2015_3\n",
    "x2 = bus.Q2015_4\n",
    "x3 = bus.Q2016_1\n",
    "x4 = bus.Q2016_2\n",
    "\n",
    "April_June_2015 = go.Histogram(\n",
    "    x=x0\n",
    ")\n",
    "July_September_2015 = go.Histogram(\n",
    "    x=x1\n",
    ")    \n",
    "October_December_2015 = go.Histogram(\n",
    "    x=x2\n",
    ")    \n",
    "January_March_2016 = go.Histogram(\n",
    "    x=x3\n",
    ")    \n",
    "April_June_2016 = go.Histogram(\n",
    "    x=x4\n",
    ")\n",
    "data = [April_June_2015, July_September_2015, October_December_2015, January_March_2016, April_June_2016]\n",
    "layout = go.Layout(barmode='stack')\n",
    "fig = go.Figure(data=data, layout=layout)\n",
    "\n",
    "py.iplot(fig, filename='stacked histogram')"
   ]
  },
  {
   "cell_type": "code",
   "execution_count": 21,
   "metadata": {},
   "outputs": [
    {
     "data": {
      "text/plain": [
       "12.499704927707288"
      ]
     },
     "execution_count": 21,
     "metadata": {},
     "output_type": "execute_result"
    }
   ],
   "source": [
    "bus.Q2015_2.mean()\n"
   ]
  },
  {
   "cell_type": "code",
   "execution_count": null,
   "metadata": {
    "collapsed": true
   },
   "outputs": [],
   "source": []
  },
  {
   "cell_type": "code",
   "execution_count": 22,
   "metadata": {},
   "outputs": [
    {
     "data": {
      "text/plain": [
       "12.0919150191797"
      ]
     },
     "execution_count": 22,
     "metadata": {},
     "output_type": "execute_result"
    }
   ],
   "source": [
    "bus.Q2015_3.mean()\n"
   ]
  },
  {
   "cell_type": "code",
   "execution_count": 23,
   "metadata": {},
   "outputs": [
    {
     "data": {
      "text/plain": [
       "12.105930953083506"
      ]
     },
     "execution_count": 23,
     "metadata": {},
     "output_type": "execute_result"
    }
   ],
   "source": [
    "bus.Q2015_4.mean()\n"
   ]
  },
  {
   "cell_type": "code",
   "execution_count": 24,
   "metadata": {},
   "outputs": [
    {
     "data": {
      "text/plain": [
       "12.938108586603718"
      ]
     },
     "execution_count": 24,
     "metadata": {},
     "output_type": "execute_result"
    }
   ],
   "source": [
    "bus.Q2016_1.mean()\n"
   ]
  },
  {
   "cell_type": "code",
   "execution_count": 25,
   "metadata": {},
   "outputs": [
    {
     "data": {
      "text/plain": [
       "12.226172912363529"
      ]
     },
     "execution_count": 25,
     "metadata": {},
     "output_type": "execute_result"
    }
   ],
   "source": [
    "bus.Q2016_2.mean()\n"
   ]
  },
  {
   "cell_type": "code",
   "execution_count": 26,
   "metadata": {},
   "outputs": [
    {
     "data": {
      "text/plain": [
       "12.0919150191797"
      ]
     },
     "execution_count": 26,
     "metadata": {},
     "output_type": "execute_result"
    }
   ],
   "source": [
    "bus.Q2016_3.mean()\n"
   ]
  },
  {
   "cell_type": "code",
   "execution_count": 27,
   "metadata": {},
   "outputs": [
    {
     "data": {
      "text/plain": [
       "12.12887282384184"
      ]
     },
     "execution_count": 27,
     "metadata": {},
     "output_type": "execute_result"
    }
   ],
   "source": [
    "bus.Q2016_4.mean()"
   ]
  },
  {
   "cell_type": "code",
   "execution_count": null,
   "metadata": {
    "collapsed": true
   },
   "outputs": [],
   "source": []
  }
 ],
 "metadata": {
  "kernelspec": {
   "display_name": "Python 2",
   "language": "python",
   "name": "python2"
  },
  "language_info": {
   "codemirror_mode": {
    "name": "ipython",
    "version": 2
   },
   "file_extension": ".py",
   "mimetype": "text/x-python",
   "name": "python",
   "nbconvert_exporter": "python",
   "pygments_lexer": "ipython2",
   "version": "2.7.14"
  }
 },
 "nbformat": 4,
 "nbformat_minor": 2
}
