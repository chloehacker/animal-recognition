{
 "cells": [
  {
   "cell_type": "code",
   "execution_count": 11,
   "metadata": {
    "collapsed": true
   },
   "outputs": [],
   "source": [
    "import pandas as pd\n",
    "import toyplot\n"
   ]
  },
  {
   "cell_type": "code",
   "execution_count": 3,
   "metadata": {},
   "outputs": [
    {
     "data": {
      "text/html": [
       "<div>\n",
       "<style>\n",
       "    .dataframe thead tr:only-child th {\n",
       "        text-align: right;\n",
       "    }\n",
       "\n",
       "    .dataframe thead th {\n",
       "        text-align: left;\n",
       "    }\n",
       "\n",
       "    .dataframe tbody tr th {\n",
       "        vertical-align: top;\n",
       "    }\n",
       "</style>\n",
       "<table border=\"1\" class=\"dataframe\">\n",
       "  <thead>\n",
       "    <tr style=\"text-align: right;\">\n",
       "      <th></th>\n",
       "      <th>X</th>\n",
       "      <th>Y</th>\n",
       "      <th>OBJECTID</th>\n",
       "      <th>StopID</th>\n",
       "      <th>NextRide</th>\n",
       "      <th>Location</th>\n",
       "      <th>Juris</th>\n",
       "      <th>Photo</th>\n",
       "      <th>Routes</th>\n",
       "      <th>Day_Category</th>\n",
       "      <th>Q2015_2</th>\n",
       "      <th>Q2015_3</th>\n",
       "      <th>Q2015_4</th>\n",
       "      <th>Q2016_1</th>\n",
       "      <th>Q2016_2</th>\n",
       "      <th>Q2016_3</th>\n",
       "      <th>Q2016_4</th>\n",
       "    </tr>\n",
       "  </thead>\n",
       "  <tbody>\n",
       "    <tr>\n",
       "      <th>0</th>\n",
       "      <td>-112.169247</td>\n",
       "      <td>33.445812</td>\n",
       "      <td>4001</td>\n",
       "      <td>1368</td>\n",
       "      <td>18489.0</td>\n",
       "      <td>SB 51ST AVE FS MADISON ST</td>\n",
       "      <td>Phoenix</td>\n",
       "      <td>NaN</td>\n",
       "      <td>51</td>\n",
       "      <td>Weekday</td>\n",
       "      <td>3.0</td>\n",
       "      <td>3.0</td>\n",
       "      <td>3.0</td>\n",
       "      <td>3.0</td>\n",
       "      <td>3.0</td>\n",
       "      <td>3.0</td>\n",
       "      <td>3.0</td>\n",
       "    </tr>\n",
       "    <tr>\n",
       "      <th>1</th>\n",
       "      <td>-112.169327</td>\n",
       "      <td>33.439301</td>\n",
       "      <td>4002</td>\n",
       "      <td>1369</td>\n",
       "      <td>18490.0</td>\n",
       "      <td>SB 51ST AVE FS HADLEY ST</td>\n",
       "      <td>Phoenix</td>\n",
       "      <td>NaN</td>\n",
       "      <td>51</td>\n",
       "      <td>Weekday</td>\n",
       "      <td>1.0</td>\n",
       "      <td>1.0</td>\n",
       "      <td>1.0</td>\n",
       "      <td>1.0</td>\n",
       "      <td>1.0</td>\n",
       "      <td>1.0</td>\n",
       "      <td>1.0</td>\n",
       "    </tr>\n",
       "    <tr>\n",
       "      <th>2</th>\n",
       "      <td>-112.169389</td>\n",
       "      <td>33.436022</td>\n",
       "      <td>4003</td>\n",
       "      <td>1370</td>\n",
       "      <td>18491.0</td>\n",
       "      <td>SB 51ST AVE FS BUCKEYE RD</td>\n",
       "      <td>Phoenix</td>\n",
       "      <td>NaN</td>\n",
       "      <td>51</td>\n",
       "      <td>Weekday</td>\n",
       "      <td>5.0</td>\n",
       "      <td>5.0</td>\n",
       "      <td>5.0</td>\n",
       "      <td>5.0</td>\n",
       "      <td>5.0</td>\n",
       "      <td>5.0</td>\n",
       "      <td>5.0</td>\n",
       "    </tr>\n",
       "    <tr>\n",
       "      <th>3</th>\n",
       "      <td>-112.169390</td>\n",
       "      <td>33.430641</td>\n",
       "      <td>4004</td>\n",
       "      <td>1371</td>\n",
       "      <td>18492.0</td>\n",
       "      <td>SB 51ST AVE FS MOHAVE ST</td>\n",
       "      <td>Phoenix</td>\n",
       "      <td>NaN</td>\n",
       "      <td>51</td>\n",
       "      <td>Weekday</td>\n",
       "      <td>1.0</td>\n",
       "      <td>1.0</td>\n",
       "      <td>1.0</td>\n",
       "      <td>1.0</td>\n",
       "      <td>1.0</td>\n",
       "      <td>1.0</td>\n",
       "      <td>1.0</td>\n",
       "    </tr>\n",
       "    <tr>\n",
       "      <th>4</th>\n",
       "      <td>-112.169404</td>\n",
       "      <td>33.425455</td>\n",
       "      <td>4005</td>\n",
       "      <td>1372</td>\n",
       "      <td>18493.0</td>\n",
       "      <td>SB 51ST AVE FS WATKINS ST</td>\n",
       "      <td>Phoenix</td>\n",
       "      <td>NaN</td>\n",
       "      <td>51</td>\n",
       "      <td>Weekday</td>\n",
       "      <td>1.0</td>\n",
       "      <td>1.0</td>\n",
       "      <td>1.0</td>\n",
       "      <td>1.0</td>\n",
       "      <td>1.0</td>\n",
       "      <td>1.0</td>\n",
       "      <td>1.0</td>\n",
       "    </tr>\n",
       "  </tbody>\n",
       "</table>\n",
       "</div>"
      ],
      "text/plain": [
       "            X          Y  OBJECTID  StopID  NextRide  \\\n",
       "0 -112.169247  33.445812      4001    1368   18489.0   \n",
       "1 -112.169327  33.439301      4002    1369   18490.0   \n",
       "2 -112.169389  33.436022      4003    1370   18491.0   \n",
       "3 -112.169390  33.430641      4004    1371   18492.0   \n",
       "4 -112.169404  33.425455      4005    1372   18493.0   \n",
       "\n",
       "                    Location    Juris Photo Routes Day_Category  Q2015_2  \\\n",
       "0  SB 51ST AVE FS MADISON ST  Phoenix   NaN     51      Weekday      3.0   \n",
       "1   SB 51ST AVE FS HADLEY ST  Phoenix   NaN     51      Weekday      1.0   \n",
       "2  SB 51ST AVE FS BUCKEYE RD  Phoenix   NaN     51      Weekday      5.0   \n",
       "3   SB 51ST AVE FS MOHAVE ST  Phoenix   NaN     51      Weekday      1.0   \n",
       "4  SB 51ST AVE FS WATKINS ST  Phoenix   NaN     51      Weekday      1.0   \n",
       "\n",
       "   Q2015_3  Q2015_4  Q2016_1  Q2016_2  Q2016_3  Q2016_4  \n",
       "0      3.0      3.0      3.0      3.0      3.0      3.0  \n",
       "1      1.0      1.0      1.0      1.0      1.0      1.0  \n",
       "2      5.0      5.0      5.0      5.0      5.0      5.0  \n",
       "3      1.0      1.0      1.0      1.0      1.0      1.0  \n",
       "4      1.0      1.0      1.0      1.0      1.0      1.0  "
      ]
     },
     "execution_count": 3,
     "metadata": {},
     "output_type": "execute_result"
    }
   ],
   "source": [
    "bus = pd.read_csv(\"Valley_Metro_Bus_Ridership.csv\")\n",
    "\n",
    "bus.head()"
   ]
  },
  {
   "cell_type": "code",
   "execution_count": 18,
   "metadata": {},
   "outputs": [
    {
     "data": {
      "text/plain": [
       "(14768, 17)"
      ]
     },
     "execution_count": 18,
     "metadata": {},
     "output_type": "execute_result"
    }
   ],
   "source": [
    "bus.shape\n"
   ]
  },
  {
   "cell_type": "code",
   "execution_count": 38,
   "metadata": {},
   "outputs": [
    {
     "data": {
      "image/png": "[encoded data removed]",
      "text/plain": [
       "<matplotlib.figure.Figure at 0x11d17e350>"
      ]
     },
     "metadata": {},
     "output_type": "display_data"
    }
   ],
   "source": [
    "import seaborn as sns\n",
    "sns.set(style=\"darkgrid\")\n",
    "fig, ax = plt.subplots()\n",
    "# the size of A4 paper\n",
    "fig.set_size_inches(10, 10)\n",
    "\n",
    "ax = sns.countplot(x=(bus.Q2015_3), data=bus)"
   ]
  },
  {
   "cell_type": "code",
   "execution_count": null,
   "metadata": {
    "collapsed": true
   },
   "outputs": [],
   "source": []
  }
 ],
 "metadata": {
  "kernelspec": {
   "display_name": "Python 2",
   "language": "python",
   "name": "python2"
  },
  "language_info": {
   "codemirror_mode": {
    "name": "ipython",
    "version": 2
   },
   "file_extension": ".py",
   "mimetype": "text/x-python",
   "name": "python",
   "nbconvert_exporter": "python",
   "pygments_lexer": "ipython2",
   "version": "2.7.14"
  }
 },
 "nbformat": 4,
 "nbformat_minor": 2
}
