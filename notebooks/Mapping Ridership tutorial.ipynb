{
 "cells": [
  {
   "cell_type": "markdown",
   "metadata": {},
   "source": [
    "# MAPPING the data\n",
    "\n",
    "This notebook uses the package plotly to visualize the ridership for the chosen city. For this notebook we will be going through Phoenix, Arizona's bus ridership data. I am showing the code for two different types of interactive maps but there are also numerous options that can be found [here](https://plot.ly/python/maps/)."
   ]
  },
  {
   "cell_type": "markdown",
   "metadata": {},
   "source": [
    "## 1. Install libraries\n",
    "Import the necessery libraries through your terminal. Use the code \n",
    "\n",
    "```conda install plotly```\n",
    "\n",
    "and \n",
    "\n",
    "```conda install pandas``` \n",
    "\n",
    "to make sure you have the necessary tools to complete this notebook."
   ]
  },
  {
   "cell_type": "markdown",
   "metadata": {},
   "source": [
    "## 2. Alter the code below following the markdown text throughout the code."
   ]
  },
  {
   "cell_type": "code",
   "execution_count": 1,
   "metadata": {},
   "outputs": [
    {
     "data": {
      "text/html": [
       "<iframe id=\"igraph\" scrolling=\"no\" style=\"border:none;\" seamless=\"seamless\" src=\"https://plot.ly/~chloehacker/4.embed\" height=\"525px\" width=\"100%\"></iframe>"
      ],
      "text/plain": [
       "<plotly.tools.PlotlyDisplay object>"
      ]
     },
     "execution_count": 1,
     "metadata": {},
     "output_type": "execute_result"
    }
   ],
   "source": [
    "#this is a scatter map, and it will create a map of the average daily ridership data for each bus stop\n",
    "#import necessary libraries\n",
    "import plotly.plotly as py\n",
    "import pandas as pd\n",
    "\n",
    "#read in your data, make sure it is saved as a .csv in the folder you are working in\n",
    "df = pd.read_csv('Valley_Metro_Bus_Ridership.csv')\n",
    "df.head()\n",
    "\n",
    "#this creates the text the appears when you map your data. whatever you put instead of 'Juris\" is what will read.\n",
    "df['text'] = df['Juris'].astype(str)\n",
    "\n",
    "#these are the colors for your scale bar,you can google color map codes to pick your own\n",
    "scl = [ [0, \"rgb(255, 224, 237)\"],[0.35,\"rgb((247, 168, 201)\"],[0.5,\"rgb(247, 126, 176)\"],\\\n",
    "    [0.6,\"rgb(252, 85, 154)\"],[0.7,\"rgb(249, 37, 125)\"],[1,\"rgb(249, 2, 105)\"] ]\n",
    "\n",
    "#this code annotates \n",
    "data = [ dict(\n",
    "        type = 'scattergeo', #type of map\n",
    "        locationmode = 'USA-states', #where the map focuses\n",
    "        lon = df['X'],\n",
    "        lat = df['Y'],\n",
    "        text = df['text'],\n",
    "        mode = 'markers',\n",
    "        marker = dict(\n",
    "            size = 8,\n",
    "            opacity = 0.8,\n",
    "            reversescale = False,\n",
    "            autocolorscale = False,\n",
    "            symbol = 'circle',\n",
    "            line = dict(\n",
    "                width=1,\n",
    "                color='rgba(102, 102, 102)'\n",
    "            ),\n",
    "            colorscale = scl,\n",
    "            cmin = 0,\n",
    "            color = df['Q2015_3'],\n",
    "            cmax = df['Q2015_3'].max(),\n",
    "            colorbar=dict(\n",
    "                title=\"Average Daily Ridership\"\n",
    "            )\n",
    "        ))]\n",
    "\n",
    "layout = dict(\n",
    "        title = 'Most trafficked Bus Stops<br>(Hover for city)',\n",
    "        colorbar = True,\n",
    "        geo = dict(\n",
    "            scope='',\n",
    "            projection=dict( type='albers usa' ),\n",
    "            showland = True,\n",
    "            landcolor = \"rgb(250, 250, 250)\",\n",
    "            subunitcolor = \"rgb(217, 217, 217)\",\n",
    "            countrycolor = \"rgb(217, 217, 217)\",\n",
    "            countrywidth = 0.5,\n",
    "            subunitwidth = 0.5\n",
    "        ),\n",
    "    )\n",
    "\n",
    "fig = dict( data=data, layout=layout )\n",
    "py.iplot( fig, validate=False, filename='bus' )"
   ]
  },
  {
   "cell_type": "markdown",
   "metadata": {},
   "source": [
    "## 3. Option for map that corresponds marker size to data."
   ]
  },
  {
   "cell_type": "code",
   "execution_count": 1,
   "metadata": {},
   "outputs": [
    {
     "data": {
      "text/html": [
       "<iframe id=\"igraph\" scrolling=\"no\" style=\"border:none;\" seamless=\"seamless\" src=\"https://plot.ly/~chloehacker/6.embed\" height=\"525px\" width=\"100%\"></iframe>"
      ],
      "text/plain": [
       "<plotly.tools.PlotlyDisplay object>"
      ]
     },
     "execution_count": 1,
     "metadata": {},
     "output_type": "execute_result"
    }
   ],
   "source": [
    "#this type of map is slightly more interactive because you can toggle on and off each of your scale limits, to \n",
    "#highlight a certain value set if that is desired\n",
    "\n",
    "import plotly.plotly as py\n",
    "import pandas as pd\n",
    "\n",
    "df = pd.read_csv('Valley_Metro_Bus_Ridership.csv')\n",
    "df.head()\n",
    "\n",
    "df['text'] = df['Juris'].astype(str)\n",
    "limits = [(0,10),(11,200),(201,300),(301,400),(401,650)]\n",
    "colors = [\"lightgrey\",\"rgb(0,116,217)\",\"rgb(255,65,54)\",\"rgb(133,20,75)\",\"rgb(255,133,27)\",]\n",
    "cities = []\n",
    "scale = 1\n",
    "\n",
    "for i in range(len(limits)):\n",
    "    lim = limits[i]\n",
    "    df_sub = df[lim[0]:lim[1]]\n",
    "    city = dict(\n",
    "        type = 'scattergeo',\n",
    "        locationmode = 'Arizona',\n",
    "        lon = df_sub['X'],\n",
    "        lat = df_sub['Y'],\n",
    "        text = df_sub['text'],\n",
    "        marker = dict(\n",
    "            size = df_sub['Q2015_3'],\n",
    "            color = colors[i],\n",
    "            line = dict(width=0.5, color='rgb(40,40,40)'),\n",
    "            sizemode = 'area'\n",
    "        ),\n",
    "        name = '{0} - {1}'.format(lim[0],lim[1]) )\n",
    "    cities.append(city)\n",
    "\n",
    "layout = dict(\n",
    "        title = 'Bus stops<br>(Click legend to toggle traces)',\n",
    "        showlegend = True,\n",
    "        geo = dict(\n",
    "            scope='usa',\n",
    "            projection=dict( type='albers usa' ),\n",
    "            showland = True,\n",
    "            landcolor = 'rgb(217, 217, 217)',\n",
    "            subunitwidth=1,\n",
    "            countrywidth=1,\n",
    "            subunitcolor=\"rgb(255, 255, 255)\",\n",
    "            countrycolor=\"rgb(255, 255, 255)\"\n",
    "        ),\n",
    "    )\n",
    "\n",
    "fig = dict( data=cities, layout=layout )\n",
    "py.iplot( fig, validate=False, filename='d3-bubble-map-bus' )"
   ]
  },
  {
   "cell_type": "markdown",
   "metadata": {
    "collapsed": true
   },
   "source": [
    "Unfortunately with these maps, I have been unalbe to find out how to automatically zoom to the data, so the user must manually zoom to their data points."
   ]
  },
  {
   "cell_type": "code",
   "execution_count": null,
   "metadata": {
    "collapsed": true
   },
   "outputs": [],
   "source": []
  }
 ],
 "metadata": {
  "kernelspec": {
   "display_name": "Python 2",
   "language": "python",
   "name": "python2"
  },
  "language_info": {
   "codemirror_mode": {
    "name": "ipython",
    "version": 2
   },
   "file_extension": ".py",
   "mimetype": "text/x-python",
   "name": "python",
   "nbconvert_exporter": "python",
   "pygments_lexer": "ipython2",
   "version": "2.7.14"
  }
 },
 "nbformat": 4,
 "nbformat_minor": 2
}
